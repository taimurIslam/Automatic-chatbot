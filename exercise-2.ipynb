{
 "cells": [
  {
   "cell_type": "code",
   "execution_count": 1,
   "metadata": {
    "collapsed": true
   },
   "outputs": [],
   "source": [
    "import pandas as pd\n",
    "import tensorflow as tf"
   ]
  },
  {
   "cell_type": "code",
   "execution_count": 2,
   "metadata": {
    "collapsed": true
   },
   "outputs": [],
   "source": [
    "census = pd.read_csv('census_data.csv')"
   ]
  },
  {
   "cell_type": "code",
   "execution_count": 3,
   "metadata": {},
   "outputs": [
    {
     "data": {
      "text/html": [
       "<div>\n",
       "<style>\n",
       "    .dataframe thead tr:only-child th {\n",
       "        text-align: right;\n",
       "    }\n",
       "\n",
       "    .dataframe thead th {\n",
       "        text-align: left;\n",
       "    }\n",
       "\n",
       "    .dataframe tbody tr th {\n",
       "        vertical-align: top;\n",
       "    }\n",
       "</style>\n",
       "<table border=\"1\" class=\"dataframe\">\n",
       "  <thead>\n",
       "    <tr style=\"text-align: right;\">\n",
       "      <th></th>\n",
       "      <th>age</th>\n",
       "      <th>workclass</th>\n",
       "      <th>education</th>\n",
       "      <th>education_num</th>\n",
       "      <th>marital_status</th>\n",
       "      <th>occupation</th>\n",
       "      <th>relationship</th>\n",
       "      <th>race</th>\n",
       "      <th>gender</th>\n",
       "      <th>capital_gain</th>\n",
       "      <th>capital_loss</th>\n",
       "      <th>hours_per_week</th>\n",
       "      <th>native_country</th>\n",
       "      <th>income_bracket</th>\n",
       "    </tr>\n",
       "  </thead>\n",
       "  <tbody>\n",
       "    <tr>\n",
       "      <th>0</th>\n",
       "      <td>39</td>\n",
       "      <td>State-gov</td>\n",
       "      <td>Bachelors</td>\n",
       "      <td>13</td>\n",
       "      <td>Never-married</td>\n",
       "      <td>Adm-clerical</td>\n",
       "      <td>Not-in-family</td>\n",
       "      <td>White</td>\n",
       "      <td>Male</td>\n",
       "      <td>2174</td>\n",
       "      <td>0</td>\n",
       "      <td>40</td>\n",
       "      <td>United-States</td>\n",
       "      <td>&lt;=50K</td>\n",
       "    </tr>\n",
       "    <tr>\n",
       "      <th>1</th>\n",
       "      <td>50</td>\n",
       "      <td>Self-emp-not-inc</td>\n",
       "      <td>Bachelors</td>\n",
       "      <td>13</td>\n",
       "      <td>Married-civ-spouse</td>\n",
       "      <td>Exec-managerial</td>\n",
       "      <td>Husband</td>\n",
       "      <td>White</td>\n",
       "      <td>Male</td>\n",
       "      <td>0</td>\n",
       "      <td>0</td>\n",
       "      <td>13</td>\n",
       "      <td>United-States</td>\n",
       "      <td>&lt;=50K</td>\n",
       "    </tr>\n",
       "    <tr>\n",
       "      <th>2</th>\n",
       "      <td>38</td>\n",
       "      <td>Private</td>\n",
       "      <td>HS-grad</td>\n",
       "      <td>9</td>\n",
       "      <td>Divorced</td>\n",
       "      <td>Handlers-cleaners</td>\n",
       "      <td>Not-in-family</td>\n",
       "      <td>White</td>\n",
       "      <td>Male</td>\n",
       "      <td>0</td>\n",
       "      <td>0</td>\n",
       "      <td>40</td>\n",
       "      <td>United-States</td>\n",
       "      <td>&lt;=50K</td>\n",
       "    </tr>\n",
       "    <tr>\n",
       "      <th>3</th>\n",
       "      <td>53</td>\n",
       "      <td>Private</td>\n",
       "      <td>11th</td>\n",
       "      <td>7</td>\n",
       "      <td>Married-civ-spouse</td>\n",
       "      <td>Handlers-cleaners</td>\n",
       "      <td>Husband</td>\n",
       "      <td>Black</td>\n",
       "      <td>Male</td>\n",
       "      <td>0</td>\n",
       "      <td>0</td>\n",
       "      <td>40</td>\n",
       "      <td>United-States</td>\n",
       "      <td>&lt;=50K</td>\n",
       "    </tr>\n",
       "    <tr>\n",
       "      <th>4</th>\n",
       "      <td>28</td>\n",
       "      <td>Private</td>\n",
       "      <td>Bachelors</td>\n",
       "      <td>13</td>\n",
       "      <td>Married-civ-spouse</td>\n",
       "      <td>Prof-specialty</td>\n",
       "      <td>Wife</td>\n",
       "      <td>Black</td>\n",
       "      <td>Female</td>\n",
       "      <td>0</td>\n",
       "      <td>0</td>\n",
       "      <td>40</td>\n",
       "      <td>Cuba</td>\n",
       "      <td>&lt;=50K</td>\n",
       "    </tr>\n",
       "  </tbody>\n",
       "</table>\n",
       "</div>"
      ],
      "text/plain": [
       "   age          workclass   education  education_num       marital_status  \\\n",
       "0   39          State-gov   Bachelors             13        Never-married   \n",
       "1   50   Self-emp-not-inc   Bachelors             13   Married-civ-spouse   \n",
       "2   38            Private     HS-grad              9             Divorced   \n",
       "3   53            Private        11th              7   Married-civ-spouse   \n",
       "4   28            Private   Bachelors             13   Married-civ-spouse   \n",
       "\n",
       "           occupation    relationship    race   gender  capital_gain  \\\n",
       "0        Adm-clerical   Not-in-family   White     Male          2174   \n",
       "1     Exec-managerial         Husband   White     Male             0   \n",
       "2   Handlers-cleaners   Not-in-family   White     Male             0   \n",
       "3   Handlers-cleaners         Husband   Black     Male             0   \n",
       "4      Prof-specialty            Wife   Black   Female             0   \n",
       "\n",
       "   capital_loss  hours_per_week  native_country income_bracket  \n",
       "0             0              40   United-States          <=50K  \n",
       "1             0              13   United-States          <=50K  \n",
       "2             0              40   United-States          <=50K  \n",
       "3             0              40   United-States          <=50K  \n",
       "4             0              40            Cuba          <=50K  "
      ]
     },
     "execution_count": 3,
     "metadata": {},
     "output_type": "execute_result"
    }
   ],
   "source": [
    "census.head()"
   ]
  },
  {
   "cell_type": "code",
   "execution_count": 4,
   "metadata": {},
   "outputs": [
    {
     "data": {
      "text/plain": [
       "array([' <=50K', ' >50K'], dtype=object)"
      ]
     },
     "execution_count": 4,
     "metadata": {},
     "output_type": "execute_result"
    }
   ],
   "source": [
    "census['income_bracket'].unique()"
   ]
  },
  {
   "cell_type": "code",
   "execution_count": 5,
   "metadata": {
    "collapsed": true
   },
   "outputs": [],
   "source": [
    "def label_fix(label):\n",
    "    if label == ' <=50K':\n",
    "        return 0\n",
    "    else:\n",
    "        return 1"
   ]
  },
  {
   "cell_type": "code",
   "execution_count": 6,
   "metadata": {
    "collapsed": true
   },
   "outputs": [],
   "source": [
    "census['income_bracket'] = census['income_bracket'].apply(label_fix)"
   ]
  },
  {
   "cell_type": "code",
   "execution_count": 7,
   "metadata": {},
   "outputs": [
    {
     "data": {
      "text/html": [
       "<div>\n",
       "<style>\n",
       "    .dataframe thead tr:only-child th {\n",
       "        text-align: right;\n",
       "    }\n",
       "\n",
       "    .dataframe thead th {\n",
       "        text-align: left;\n",
       "    }\n",
       "\n",
       "    .dataframe tbody tr th {\n",
       "        vertical-align: top;\n",
       "    }\n",
       "</style>\n",
       "<table border=\"1\" class=\"dataframe\">\n",
       "  <thead>\n",
       "    <tr style=\"text-align: right;\">\n",
       "      <th></th>\n",
       "      <th>age</th>\n",
       "      <th>workclass</th>\n",
       "      <th>education</th>\n",
       "      <th>education_num</th>\n",
       "      <th>marital_status</th>\n",
       "      <th>occupation</th>\n",
       "      <th>relationship</th>\n",
       "      <th>race</th>\n",
       "      <th>gender</th>\n",
       "      <th>capital_gain</th>\n",
       "      <th>capital_loss</th>\n",
       "      <th>hours_per_week</th>\n",
       "      <th>native_country</th>\n",
       "      <th>income_bracket</th>\n",
       "    </tr>\n",
       "  </thead>\n",
       "  <tbody>\n",
       "    <tr>\n",
       "      <th>0</th>\n",
       "      <td>39</td>\n",
       "      <td>State-gov</td>\n",
       "      <td>Bachelors</td>\n",
       "      <td>13</td>\n",
       "      <td>Never-married</td>\n",
       "      <td>Adm-clerical</td>\n",
       "      <td>Not-in-family</td>\n",
       "      <td>White</td>\n",
       "      <td>Male</td>\n",
       "      <td>2174</td>\n",
       "      <td>0</td>\n",
       "      <td>40</td>\n",
       "      <td>United-States</td>\n",
       "      <td>0</td>\n",
       "    </tr>\n",
       "    <tr>\n",
       "      <th>1</th>\n",
       "      <td>50</td>\n",
       "      <td>Self-emp-not-inc</td>\n",
       "      <td>Bachelors</td>\n",
       "      <td>13</td>\n",
       "      <td>Married-civ-spouse</td>\n",
       "      <td>Exec-managerial</td>\n",
       "      <td>Husband</td>\n",
       "      <td>White</td>\n",
       "      <td>Male</td>\n",
       "      <td>0</td>\n",
       "      <td>0</td>\n",
       "      <td>13</td>\n",
       "      <td>United-States</td>\n",
       "      <td>0</td>\n",
       "    </tr>\n",
       "    <tr>\n",
       "      <th>2</th>\n",
       "      <td>38</td>\n",
       "      <td>Private</td>\n",
       "      <td>HS-grad</td>\n",
       "      <td>9</td>\n",
       "      <td>Divorced</td>\n",
       "      <td>Handlers-cleaners</td>\n",
       "      <td>Not-in-family</td>\n",
       "      <td>White</td>\n",
       "      <td>Male</td>\n",
       "      <td>0</td>\n",
       "      <td>0</td>\n",
       "      <td>40</td>\n",
       "      <td>United-States</td>\n",
       "      <td>0</td>\n",
       "    </tr>\n",
       "    <tr>\n",
       "      <th>3</th>\n",
       "      <td>53</td>\n",
       "      <td>Private</td>\n",
       "      <td>11th</td>\n",
       "      <td>7</td>\n",
       "      <td>Married-civ-spouse</td>\n",
       "      <td>Handlers-cleaners</td>\n",
       "      <td>Husband</td>\n",
       "      <td>Black</td>\n",
       "      <td>Male</td>\n",
       "      <td>0</td>\n",
       "      <td>0</td>\n",
       "      <td>40</td>\n",
       "      <td>United-States</td>\n",
       "      <td>0</td>\n",
       "    </tr>\n",
       "    <tr>\n",
       "      <th>4</th>\n",
       "      <td>28</td>\n",
       "      <td>Private</td>\n",
       "      <td>Bachelors</td>\n",
       "      <td>13</td>\n",
       "      <td>Married-civ-spouse</td>\n",
       "      <td>Prof-specialty</td>\n",
       "      <td>Wife</td>\n",
       "      <td>Black</td>\n",
       "      <td>Female</td>\n",
       "      <td>0</td>\n",
       "      <td>0</td>\n",
       "      <td>40</td>\n",
       "      <td>Cuba</td>\n",
       "      <td>0</td>\n",
       "    </tr>\n",
       "  </tbody>\n",
       "</table>\n",
       "</div>"
      ],
      "text/plain": [
       "   age          workclass   education  education_num       marital_status  \\\n",
       "0   39          State-gov   Bachelors             13        Never-married   \n",
       "1   50   Self-emp-not-inc   Bachelors             13   Married-civ-spouse   \n",
       "2   38            Private     HS-grad              9             Divorced   \n",
       "3   53            Private        11th              7   Married-civ-spouse   \n",
       "4   28            Private   Bachelors             13   Married-civ-spouse   \n",
       "\n",
       "           occupation    relationship    race   gender  capital_gain  \\\n",
       "0        Adm-clerical   Not-in-family   White     Male          2174   \n",
       "1     Exec-managerial         Husband   White     Male             0   \n",
       "2   Handlers-cleaners   Not-in-family   White     Male             0   \n",
       "3   Handlers-cleaners         Husband   Black     Male             0   \n",
       "4      Prof-specialty            Wife   Black   Female             0   \n",
       "\n",
       "   capital_loss  hours_per_week  native_country  income_bracket  \n",
       "0             0              40   United-States               0  \n",
       "1             0              13   United-States               0  \n",
       "2             0              40   United-States               0  \n",
       "3             0              40   United-States               0  \n",
       "4             0              40            Cuba               0  "
      ]
     },
     "execution_count": 7,
     "metadata": {},
     "output_type": "execute_result"
    }
   ],
   "source": [
    "census.head()"
   ]
  },
  {
   "cell_type": "code",
   "execution_count": 8,
   "metadata": {
    "collapsed": true
   },
   "outputs": [],
   "source": [
    "from sklearn.model_selection import train_test_split"
   ]
  },
  {
   "cell_type": "code",
   "execution_count": 9,
   "metadata": {
    "collapsed": true
   },
   "outputs": [],
   "source": [
    "x_data = census.drop('income_bracket', axis=1)"
   ]
  },
  {
   "cell_type": "code",
   "execution_count": 10,
   "metadata": {
    "collapsed": true
   },
   "outputs": [],
   "source": [
    "y_labels = census['income_bracket']"
   ]
  },
  {
   "cell_type": "code",
   "execution_count": 11,
   "metadata": {
    "collapsed": true
   },
   "outputs": [],
   "source": [
    "x_train, x_test, y_train, y_test = train_test_split( x_data, y_labels, test_size=0.30, random_state=101)"
   ]
  },
  {
   "cell_type": "code",
   "execution_count": 12,
   "metadata": {},
   "outputs": [
    {
     "data": {
      "text/plain": [
       "Index(['age', 'workclass', 'education', 'education_num', 'marital_status',\n",
       "       'occupation', 'relationship', 'race', 'gender', 'capital_gain',\n",
       "       'capital_loss', 'hours_per_week', 'native_country', 'income_bracket'],\n",
       "      dtype='object')"
      ]
     },
     "execution_count": 12,
     "metadata": {},
     "output_type": "execute_result"
    }
   ],
   "source": [
    "census.columns"
   ]
  },
  {
   "cell_type": "code",
   "execution_count": 13,
   "metadata": {
    "collapsed": true
   },
   "outputs": [],
   "source": [
    "gender = tf.feature_column.categorical_column_with_vocabulary_list(\"gender\",['Female','Male'])\n",
    "\n",
    "occupation = tf.feature_column.categorical_column_with_hash_bucket(\"occupation\", hash_bucket_size=1000)\n",
    "marital_status = tf.feature_column.categorical_column_with_hash_bucket(\"marital_status\", hash_bucket_size=1000)\n",
    "relationship = tf.feature_column.categorical_column_with_hash_bucket(\"relationship\", hash_bucket_size=1000)\n",
    "education = tf.feature_column.categorical_column_with_hash_bucket(\"education\", hash_bucket_size=1000)\n",
    "workclass = tf.feature_column.categorical_column_with_hash_bucket(\"workclass\", hash_bucket_size=1000)\n",
    "native_country = tf.feature_column.categorical_column_with_hash_bucket(\"native_country\", hash_bucket_size=1000)\n"
   ]
  },
  {
   "cell_type": "code",
   "execution_count": 14,
   "metadata": {
    "collapsed": true
   },
   "outputs": [],
   "source": [
    "age = tf.feature_column.numeric_column(\"age\")\n",
    "education_num = tf.feature_column.numeric_column(\"education_num\")\n",
    "capital_gain = tf.feature_column.numeric_column(\"capital_gain\")\n",
    "capital_loss = tf.feature_column.numeric_column(\"capital_loss\")\n",
    "hours_per_week = tf.feature_column.numeric_column(\"hours_per_week\")"
   ]
  },
  {
   "cell_type": "code",
   "execution_count": 15,
   "metadata": {
    "collapsed": true
   },
   "outputs": [],
   "source": [
    "feat_cols = [gender,occupation,marital_status,relationship,education,workclass,native_country,\n",
    "             age,education_num,capital_gain,capital_loss,hours_per_week]"
   ]
  },
  {
   "cell_type": "code",
   "execution_count": 16,
   "metadata": {
    "collapsed": true
   },
   "outputs": [],
   "source": [
    "input_func = tf.estimator.inputs.pandas_input_fn(x= x_train, y= y_train, batch_size=100,\n",
    "                                                num_epochs=None, shuffle = True)"
   ]
  },
  {
   "cell_type": "code",
   "execution_count": 17,
   "metadata": {},
   "outputs": [
    {
     "name": "stdout",
     "output_type": "stream",
     "text": [
      "INFO:tensorflow:Using default config.\n",
      "WARNING:tensorflow:Using temporary folder as model directory: C:\\Users\\ASUSPC~1\\AppData\\Local\\Temp\\tmpzo_n7ome\n",
      "INFO:tensorflow:Using config: {'_model_dir': 'C:\\\\Users\\\\ASUSPC~1\\\\AppData\\\\Local\\\\Temp\\\\tmpzo_n7ome', '_tf_random_seed': None, '_save_summary_steps': 100, '_save_checkpoints_steps': None, '_save_checkpoints_secs': 600, '_session_config': None, '_keep_checkpoint_max': 5, '_keep_checkpoint_every_n_hours': 10000, '_log_step_count_steps': 100, '_service': None, '_cluster_spec': <tensorflow.python.training.server_lib.ClusterSpec object at 0x000002397E1C07F0>, '_task_type': 'worker', '_task_id': 0, '_master': '', '_is_chief': True, '_num_ps_replicas': 0, '_num_worker_replicas': 1}\n"
     ]
    }
   ],
   "source": [
    "model = tf.estimator.LinearClassifier(feature_columns=feat_cols)"
   ]
  },
  {
   "cell_type": "code",
   "execution_count": 18,
   "metadata": {},
   "outputs": [
    {
     "name": "stdout",
     "output_type": "stream",
     "text": [
      "INFO:tensorflow:Create CheckpointSaverHook.\n",
      "INFO:tensorflow:Saving checkpoints for 1 into C:\\Users\\ASUSPC~1\\AppData\\Local\\Temp\\tmpzo_n7ome\\model.ckpt.\n",
      "INFO:tensorflow:loss = 69.3147, step = 1\n",
      "INFO:tensorflow:global_step/sec: 86.6467\n",
      "INFO:tensorflow:loss = 1259.82, step = 101 (1.159 sec)\n",
      "INFO:tensorflow:global_step/sec: 206.27\n",
      "INFO:tensorflow:loss = 216.457, step = 201 (0.488 sec)\n",
      "INFO:tensorflow:global_step/sec: 231.121\n",
      "INFO:tensorflow:loss = 198.535, step = 301 (0.429 sec)\n",
      "INFO:tensorflow:global_step/sec: 248.696\n",
      "INFO:tensorflow:loss = 100.196, step = 401 (0.401 sec)\n",
      "INFO:tensorflow:global_step/sec: 263.134\n",
      "INFO:tensorflow:loss = 91.8691, step = 501 (0.380 sec)\n",
      "INFO:tensorflow:global_step/sec: 262.059\n",
      "INFO:tensorflow:loss = 149.86, step = 601 (0.381 sec)\n",
      "INFO:tensorflow:global_step/sec: 279.555\n",
      "INFO:tensorflow:loss = 35.0192, step = 701 (0.359 sec)\n",
      "INFO:tensorflow:global_step/sec: 293.101\n",
      "INFO:tensorflow:loss = 65.6938, step = 801 (0.340 sec)\n",
      "INFO:tensorflow:global_step/sec: 294.65\n",
      "INFO:tensorflow:loss = 155.469, step = 901 (0.340 sec)\n",
      "INFO:tensorflow:global_step/sec: 291.177\n",
      "INFO:tensorflow:loss = 408.291, step = 1001 (0.342 sec)\n",
      "INFO:tensorflow:global_step/sec: 294.015\n",
      "INFO:tensorflow:loss = 183.169, step = 1101 (0.340 sec)\n",
      "INFO:tensorflow:global_step/sec: 294.185\n",
      "INFO:tensorflow:loss = 84.0535, step = 1201 (0.342 sec)\n",
      "INFO:tensorflow:global_step/sec: 266.652\n",
      "INFO:tensorflow:loss = 269.365, step = 1301 (0.374 sec)\n",
      "INFO:tensorflow:global_step/sec: 320.67\n",
      "INFO:tensorflow:loss = 46.9525, step = 1401 (0.311 sec)\n",
      "INFO:tensorflow:global_step/sec: 320.881\n",
      "INFO:tensorflow:loss = 42.8128, step = 1501 (0.313 sec)\n",
      "INFO:tensorflow:global_step/sec: 326.532\n",
      "INFO:tensorflow:loss = 110.859, step = 1601 (0.306 sec)\n",
      "INFO:tensorflow:global_step/sec: 321.855\n",
      "INFO:tensorflow:loss = 68.959, step = 1701 (0.310 sec)\n",
      "INFO:tensorflow:global_step/sec: 327.324\n",
      "INFO:tensorflow:loss = 52.0741, step = 1801 (0.306 sec)\n",
      "INFO:tensorflow:global_step/sec: 321.706\n",
      "INFO:tensorflow:loss = 60.027, step = 1901 (0.311 sec)\n",
      "INFO:tensorflow:global_step/sec: 321.704\n",
      "INFO:tensorflow:loss = 37.8109, step = 2001 (0.312 sec)\n",
      "INFO:tensorflow:global_step/sec: 321.999\n",
      "INFO:tensorflow:loss = 54.359, step = 2101 (0.310 sec)\n",
      "INFO:tensorflow:global_step/sec: 318.931\n",
      "INFO:tensorflow:loss = 73.1709, step = 2201 (0.314 sec)\n",
      "INFO:tensorflow:global_step/sec: 319.644\n",
      "INFO:tensorflow:loss = 40.3932, step = 2301 (0.314 sec)\n",
      "INFO:tensorflow:global_step/sec: 317.608\n",
      "INFO:tensorflow:loss = 21.6123, step = 2401 (0.315 sec)\n",
      "INFO:tensorflow:global_step/sec: 317.606\n",
      "INFO:tensorflow:loss = 31.9798, step = 2501 (0.314 sec)\n",
      "INFO:tensorflow:global_step/sec: 324.848\n",
      "INFO:tensorflow:loss = 155.756, step = 2601 (0.308 sec)\n",
      "INFO:tensorflow:global_step/sec: 318.111\n",
      "INFO:tensorflow:loss = 425.935, step = 2701 (0.314 sec)\n",
      "INFO:tensorflow:global_step/sec: 320.153\n",
      "INFO:tensorflow:loss = 175.09, step = 2801 (0.312 sec)\n",
      "INFO:tensorflow:global_step/sec: 321.093\n",
      "INFO:tensorflow:loss = 53.6332, step = 2901 (0.311 sec)\n",
      "INFO:tensorflow:global_step/sec: 321.704\n",
      "INFO:tensorflow:loss = 29.8249, step = 3001 (0.311 sec)\n",
      "INFO:tensorflow:global_step/sec: 298.886\n",
      "INFO:tensorflow:loss = 58.1827, step = 3101 (0.336 sec)\n",
      "INFO:tensorflow:global_step/sec: 333.539\n",
      "INFO:tensorflow:loss = 50.2202, step = 3201 (0.300 sec)\n",
      "INFO:tensorflow:global_step/sec: 345.839\n",
      "INFO:tensorflow:loss = 40.3766, step = 3301 (0.288 sec)\n",
      "INFO:tensorflow:global_step/sec: 327.124\n",
      "INFO:tensorflow:loss = 84.4216, step = 3401 (0.306 sec)\n",
      "INFO:tensorflow:global_step/sec: 368.25\n",
      "INFO:tensorflow:loss = 78.641, step = 3501 (0.271 sec)\n",
      "INFO:tensorflow:global_step/sec: 373.152\n",
      "INFO:tensorflow:loss = 44.2097, step = 3601 (0.270 sec)\n",
      "INFO:tensorflow:global_step/sec: 374.218\n",
      "INFO:tensorflow:loss = 47.737, step = 3701 (0.267 sec)\n",
      "INFO:tensorflow:global_step/sec: 352.389\n",
      "INFO:tensorflow:loss = 468.346, step = 3801 (0.283 sec)\n",
      "INFO:tensorflow:global_step/sec: 390.081\n",
      "INFO:tensorflow:loss = 34.0217, step = 3901 (0.255 sec)\n",
      "INFO:tensorflow:global_step/sec: 400.521\n",
      "INFO:tensorflow:loss = 30.5366, step = 4001 (0.251 sec)\n",
      "INFO:tensorflow:global_step/sec: 400.89\n",
      "INFO:tensorflow:loss = 29.1046, step = 4101 (0.249 sec)\n",
      "INFO:tensorflow:global_step/sec: 406.669\n",
      "INFO:tensorflow:loss = 43.5231, step = 4201 (0.246 sec)\n",
      "INFO:tensorflow:global_step/sec: 402.85\n",
      "INFO:tensorflow:loss = 35.6933, step = 4301 (0.248 sec)\n",
      "INFO:tensorflow:global_step/sec: 386.551\n",
      "INFO:tensorflow:loss = 26.3513, step = 4401 (0.259 sec)\n",
      "INFO:tensorflow:global_step/sec: 391.089\n",
      "INFO:tensorflow:loss = 44.0095, step = 4501 (0.255 sec)\n",
      "INFO:tensorflow:global_step/sec: 395.754\n",
      "INFO:tensorflow:loss = 41.1633, step = 4601 (0.253 sec)\n",
      "INFO:tensorflow:global_step/sec: 402.295\n",
      "INFO:tensorflow:loss = 41.4055, step = 4701 (0.250 sec)\n",
      "INFO:tensorflow:global_step/sec: 402.14\n",
      "INFO:tensorflow:loss = 79.0269, step = 4801 (0.249 sec)\n",
      "INFO:tensorflow:global_step/sec: 395.747\n",
      "INFO:tensorflow:loss = 88.2957, step = 4901 (0.252 sec)\n",
      "INFO:tensorflow:global_step/sec: 398.936\n",
      "INFO:tensorflow:loss = 116.887, step = 5001 (0.251 sec)\n",
      "INFO:tensorflow:global_step/sec: 408.779\n",
      "INFO:tensorflow:loss = 43.28, step = 5101 (0.244 sec)\n",
      "INFO:tensorflow:global_step/sec: 386.553\n",
      "INFO:tensorflow:loss = 29.6358, step = 5201 (0.259 sec)\n",
      "INFO:tensorflow:global_step/sec: 373.535\n",
      "INFO:tensorflow:loss = 41.823, step = 5301 (0.268 sec)\n",
      "INFO:tensorflow:global_step/sec: 370.755\n",
      "INFO:tensorflow:loss = 40.8435, step = 5401 (0.269 sec)\n",
      "INFO:tensorflow:global_step/sec: 396.395\n",
      "INFO:tensorflow:loss = 37.3487, step = 5501 (0.253 sec)\n",
      "INFO:tensorflow:global_step/sec: 402.11\n",
      "INFO:tensorflow:loss = 31.4584, step = 5601 (0.249 sec)\n",
      "INFO:tensorflow:global_step/sec: 401.657\n",
      "INFO:tensorflow:loss = 75.9757, step = 5701 (0.249 sec)\n",
      "INFO:tensorflow:global_step/sec: 397.332\n",
      "INFO:tensorflow:loss = 37.4691, step = 5801 (0.252 sec)\n",
      "INFO:tensorflow:global_step/sec: 402.502\n",
      "INFO:tensorflow:loss = 127.86, step = 5901 (0.248 sec)\n",
      "INFO:tensorflow:global_step/sec: 394.798\n",
      "INFO:tensorflow:loss = 112.58, step = 6001 (0.253 sec)\n",
      "INFO:tensorflow:global_step/sec: 395.749\n",
      "INFO:tensorflow:loss = 30.2967, step = 6101 (0.254 sec)\n",
      "INFO:tensorflow:global_step/sec: 397.327\n",
      "INFO:tensorflow:loss = 37.254, step = 6201 (0.250 sec)\n",
      "INFO:tensorflow:global_step/sec: 392.63\n",
      "INFO:tensorflow:loss = 511.055, step = 6301 (0.255 sec)\n",
      "INFO:tensorflow:global_step/sec: 393.407\n",
      "INFO:tensorflow:loss = 102.055, step = 6401 (0.254 sec)\n",
      "INFO:tensorflow:global_step/sec: 409.537\n",
      "INFO:tensorflow:loss = 32.6006, step = 6501 (0.244 sec)\n",
      "INFO:tensorflow:global_step/sec: 400.53\n",
      "INFO:tensorflow:loss = 30.4568, step = 6601 (0.250 sec)\n",
      "INFO:tensorflow:global_step/sec: 398.91\n",
      "INFO:tensorflow:loss = 37.7669, step = 6701 (0.251 sec)\n",
      "INFO:tensorflow:global_step/sec: 389.568\n",
      "INFO:tensorflow:loss = 31.4629, step = 6801 (0.256 sec)\n",
      "INFO:tensorflow:global_step/sec: 397.328\n",
      "INFO:tensorflow:loss = 119.345, step = 6901 (0.252 sec)\n",
      "INFO:tensorflow:global_step/sec: 391.295\n",
      "INFO:tensorflow:loss = 101.048, step = 7001 (0.255 sec)\n",
      "INFO:tensorflow:global_step/sec: 399.45\n",
      "INFO:tensorflow:loss = 151.614, step = 7101 (0.251 sec)\n",
      "INFO:tensorflow:global_step/sec: 400.508\n",
      "INFO:tensorflow:loss = 31.0572, step = 7201 (0.249 sec)\n",
      "INFO:tensorflow:global_step/sec: 400.519\n",
      "INFO:tensorflow:loss = 36.1124, step = 7301 (0.249 sec)\n",
      "INFO:tensorflow:global_step/sec: 389.563\n",
      "INFO:tensorflow:loss = 28.2257, step = 7401 (0.258 sec)\n",
      "INFO:tensorflow:global_step/sec: 379.196\n",
      "INFO:tensorflow:loss = 38.9017, step = 7501 (0.263 sec)\n",
      "INFO:tensorflow:global_step/sec: 397.968\n",
      "INFO:tensorflow:loss = 36.2477, step = 7601 (0.251 sec)\n",
      "INFO:tensorflow:global_step/sec: 403.777\n",
      "INFO:tensorflow:loss = 32.6396, step = 7701 (0.249 sec)\n",
      "INFO:tensorflow:global_step/sec: 403.738\n",
      "INFO:tensorflow:loss = 24.1646, step = 7801 (0.247 sec)\n",
      "INFO:tensorflow:global_step/sec: 405.418\n",
      "INFO:tensorflow:loss = 38.7567, step = 7901 (0.248 sec)\n",
      "INFO:tensorflow:global_step/sec: 409.171\n",
      "INFO:tensorflow:loss = 88.4234, step = 8001 (0.243 sec)\n",
      "INFO:tensorflow:global_step/sec: 407.059\n",
      "INFO:tensorflow:loss = 30.5486, step = 8101 (0.246 sec)\n",
      "INFO:tensorflow:global_step/sec: 398.033\n",
      "INFO:tensorflow:loss = 43.7498, step = 8201 (0.252 sec)\n",
      "INFO:tensorflow:global_step/sec: 396.004\n",
      "INFO:tensorflow:loss = 114.967, step = 8301 (0.253 sec)\n"
     ]
    },
    {
     "name": "stdout",
     "output_type": "stream",
     "text": [
      "INFO:tensorflow:global_step/sec: 403.755\n",
      "INFO:tensorflow:loss = 47.9836, step = 8401 (0.247 sec)\n",
      "INFO:tensorflow:global_step/sec: 403.762\n",
      "INFO:tensorflow:loss = 43.1322, step = 8501 (0.248 sec)\n",
      "INFO:tensorflow:global_step/sec: 407.054\n",
      "INFO:tensorflow:loss = 87.5142, step = 8601 (0.245 sec)\n",
      "INFO:tensorflow:global_step/sec: 403.761\n",
      "INFO:tensorflow:loss = 38.8802, step = 8701 (0.248 sec)\n",
      "INFO:tensorflow:global_step/sec: 413.794\n",
      "INFO:tensorflow:loss = 77.3601, step = 8801 (0.242 sec)\n",
      "INFO:tensorflow:global_step/sec: 404.467\n",
      "INFO:tensorflow:loss = 41.0191, step = 8901 (0.247 sec)\n",
      "INFO:tensorflow:global_step/sec: 407.063\n",
      "INFO:tensorflow:loss = 34.4306, step = 9001 (0.246 sec)\n",
      "INFO:tensorflow:global_step/sec: 408.783\n",
      "INFO:tensorflow:loss = 39.8672, step = 9101 (0.246 sec)\n",
      "INFO:tensorflow:global_step/sec: 401.256\n",
      "INFO:tensorflow:loss = 180.02, step = 9201 (0.248 sec)\n",
      "INFO:tensorflow:global_step/sec: 407.049\n",
      "INFO:tensorflow:loss = 25.3076, step = 9301 (0.245 sec)\n",
      "INFO:tensorflow:global_step/sec: 398.92\n",
      "INFO:tensorflow:loss = 22.9767, step = 9401 (0.252 sec)\n",
      "INFO:tensorflow:global_step/sec: 397.991\n",
      "INFO:tensorflow:loss = 55.0438, step = 9501 (0.251 sec)\n",
      "INFO:tensorflow:global_step/sec: 404.185\n",
      "INFO:tensorflow:loss = 93.2791, step = 9601 (0.247 sec)\n",
      "INFO:tensorflow:global_step/sec: 401.201\n",
      "INFO:tensorflow:loss = 20.7248, step = 9701 (0.248 sec)\n",
      "INFO:tensorflow:global_step/sec: 402.116\n",
      "INFO:tensorflow:loss = 24.7471, step = 9801 (0.250 sec)\n",
      "INFO:tensorflow:global_step/sec: 401.31\n",
      "INFO:tensorflow:loss = 37.9756, step = 9901 (0.248 sec)\n",
      "INFO:tensorflow:Saving checkpoints for 10000 into C:\\Users\\ASUSPC~1\\AppData\\Local\\Temp\\tmpzo_n7ome\\model.ckpt.\n",
      "INFO:tensorflow:Loss for final step: 51.9688.\n"
     ]
    },
    {
     "data": {
      "text/plain": [
       "<tensorflow.python.estimator.canned.linear.LinearClassifier at 0x23902eb8c18>"
      ]
     },
     "execution_count": 18,
     "metadata": {},
     "output_type": "execute_result"
    }
   ],
   "source": [
    "model.train(input_fn=input_func, steps=10000)"
   ]
  },
  {
   "cell_type": "code",
   "execution_count": 27,
   "metadata": {},
   "outputs": [],
   "source": [
    "saver = tf.train.Saver"
   ]
  },
  {
   "cell_type": "code",
   "execution_count": 36,
   "metadata": {},
   "outputs": [
    {
     "ename": "TypeError",
     "evalue": "save() missing 1 required positional argument: 'sess'",
     "output_type": "error",
     "traceback": [
      "\u001b[1;31m---------------------------------------------------------------------------\u001b[0m",
      "\u001b[1;31mTypeError\u001b[0m                                 Traceback (most recent call last)",
      "\u001b[1;32m<ipython-input-36-44fa8d92cd98>\u001b[0m in \u001b[0;36m<module>\u001b[1;34m()\u001b[0m\n\u001b[0;32m      1\u001b[0m \u001b[1;32mwith\u001b[0m \u001b[0mtf\u001b[0m\u001b[1;33m.\u001b[0m\u001b[0mSession\u001b[0m\u001b[1;33m(\u001b[0m\u001b[1;33m)\u001b[0m \u001b[1;32mas\u001b[0m \u001b[0msess\u001b[0m\u001b[1;33m:\u001b[0m\u001b[1;33m\u001b[0m\u001b[0m\n\u001b[1;32m----> 2\u001b[1;33m     \u001b[0msaver\u001b[0m\u001b[1;33m.\u001b[0m\u001b[0msave\u001b[0m\u001b[1;33m(\u001b[0m\u001b[0mmodel\u001b[0m\u001b[1;33m,\u001b[0m\u001b[0msave_path\u001b[0m\u001b[1;33m=\u001b[0m\u001b[1;34m'./model.ckpt'\u001b[0m\u001b[1;33m)\u001b[0m\u001b[1;33m\u001b[0m\u001b[0m\n\u001b[0m",
      "\u001b[1;31mTypeError\u001b[0m: save() missing 1 required positional argument: 'sess'"
     ]
    }
   ],
   "source": [
    "with tf.Session() as sess:\n",
    "    saver.save(model,save_path='./model.ckpt')"
   ]
  },
  {
   "cell_type": "code",
   "execution_count": 22,
   "metadata": {
    "collapsed": true
   },
   "outputs": [],
   "source": [
    "pred_fn = tf.estimator.inputs.pandas_input_fn(x= x_test,batch_size=len(x_test),shuffle = False)"
   ]
  },
  {
   "cell_type": "code",
   "execution_count": 23,
   "metadata": {
    "collapsed": true
   },
   "outputs": [],
   "source": [
    "pred_gen = model.predict(input_fn=pred_fn)"
   ]
  },
  {
   "cell_type": "code",
   "execution_count": 24,
   "metadata": {},
   "outputs": [
    {
     "name": "stdout",
     "output_type": "stream",
     "text": [
      "INFO:tensorflow:Restoring parameters from C:\\Users\\ASUSPC~1\\AppData\\Local\\Temp\\tmpzo_n7ome\\model.ckpt-10000\n"
     ]
    }
   ],
   "source": [
    "prediction = list(pred_gen)"
   ]
  },
  {
   "cell_type": "code",
   "execution_count": null,
   "metadata": {
    "collapsed": true
   },
   "outputs": [],
   "source": []
  }
 ],
 "metadata": {
  "kernelspec": {
   "display_name": "Python 3",
   "language": "python",
   "name": "python3"
  },
  "language_info": {
   "codemirror_mode": {
    "name": "ipython",
    "version": 3
   },
   "file_extension": ".py",
   "mimetype": "text/x-python",
   "name": "python",
   "nbconvert_exporter": "python",
   "pygments_lexer": "ipython3",
   "version": "3.6.1"
  }
 },
 "nbformat": 4,
 "nbformat_minor": 2
}
